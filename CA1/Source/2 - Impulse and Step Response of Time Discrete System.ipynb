{
 "cells": [
  {
   "cell_type": "markdown",
   "metadata": {
    "collapsed": true,
    "pycharm": {
     "name": "#%% md\n"
    }
   },
   "source": [
    "# Question 2"
   ]
  },
  {
   "cell_type": "code",
   "execution_count": 1,
   "metadata": {
    "pycharm": {
     "name": "#%%\n"
    }
   },
   "outputs": [],
   "source": [
    "import numpy\n",
    "from matplotlib import pyplot\n",
    "from scipy import signal\n",
    "\n",
    "T = 100\n",
    "k = 0.5\n",
    "A = 1\n",
    "border = 10\n",
    "\n",
    "def cos_2_pi_k_n(n):\n",
    "    return A*numpy.cos(2*numpy.pi*k*n)"
   ]
  },
  {
   "cell_type": "markdown",
   "metadata": {},
   "source": [
    "### Part A\n",
    "\n",
    "Impulse and Step response of time discrete functions :\n",
    "\n",
    "A. $\\frac{1}{T}(x[n+1]-x[n])$"
   ]
  },
  {
   "cell_type": "code",
   "execution_count": 2,
   "metadata": {
    "pycharm": {
     "name": "#%%\n"
    }
   },
   "outputs": [
    {
     "ename": "ValueError",
     "evalue": "`system` needs to be an instance of `dlti` or have 2, 3 or 4 arguments.",
     "output_type": "error",
     "traceback": [
      "\u001B[1;31m---------------------------------------------------------------------------\u001B[0m",
      "\u001B[1;31mValueError\u001B[0m                                Traceback (most recent call last)",
      "\u001B[1;32m~\\AppData\\Local\\Temp/ipykernel_244/641994827.py\u001B[0m in \u001B[0;36m<module>\u001B[1;34m\u001B[0m\n\u001B[0;32m      2\u001B[0m \u001B[1;31m# y = (1/T)*(cos_2_pi_k_n(n+1)-cos_2_pi_k_n(n))\u001B[0m\u001B[1;33m\u001B[0m\u001B[1;33m\u001B[0m\u001B[1;33m\u001B[0m\u001B[0m\n\u001B[0;32m      3\u001B[0m \u001B[1;31m# system = signal.dlti(0.8)\u001B[0m\u001B[1;33m\u001B[0m\u001B[1;33m\u001B[0m\u001B[1;33m\u001B[0m\u001B[0m\n\u001B[1;32m----> 4\u001B[1;33m \u001B[0ma\u001B[0m\u001B[1;33m,\u001B[0m\u001B[0mb\u001B[0m \u001B[1;33m=\u001B[0m \u001B[0msignal\u001B[0m\u001B[1;33m.\u001B[0m\u001B[0mdimpulse\u001B[0m\u001B[1;33m(\u001B[0m\u001B[1;33m[\u001B[0m\u001B[1;36m1.0\u001B[0m\u001B[1;33m]\u001B[0m\u001B[1;33m,\u001B[0m\u001B[1;33m[\u001B[0m\u001B[1;36m1\u001B[0m\u001B[1;33m,\u001B[0m\u001B[1;33m-\u001B[0m\u001B[1;36m1\u001B[0m\u001B[1;33m]\u001B[0m\u001B[1;33m)\u001B[0m\u001B[1;33m\u001B[0m\u001B[1;33m\u001B[0m\u001B[0m\n\u001B[0m\u001B[0;32m      5\u001B[0m \u001B[0mpyplot\u001B[0m\u001B[1;33m.\u001B[0m\u001B[0mstem\u001B[0m\u001B[1;33m(\u001B[0m\u001B[0ma\u001B[0m\u001B[1;33m,\u001B[0m\u001B[0mnumpy\u001B[0m\u001B[1;33m.\u001B[0m\u001B[0msqueeze\u001B[0m\u001B[1;33m(\u001B[0m\u001B[0mb\u001B[0m\u001B[1;33m)\u001B[0m\u001B[1;33m)\u001B[0m\u001B[1;33m\u001B[0m\u001B[1;33m\u001B[0m\u001B[0m\n\u001B[0;32m      6\u001B[0m \u001B[0mpyplot\u001B[0m\u001B[1;33m.\u001B[0m\u001B[0mylabel\u001B[0m\u001B[1;33m(\u001B[0m\u001B[1;34m'y[n]'\u001B[0m\u001B[1;33m)\u001B[0m\u001B[1;33m\u001B[0m\u001B[1;33m\u001B[0m\u001B[0m\n",
      "\u001B[1;32mc:\\users\\sm2a\\pycharmprojects\\signal\\venv\\lib\\site-packages\\scipy\\signal\\ltisys.py\u001B[0m in \u001B[0;36mdimpulse\u001B[1;34m(system, x0, t, n)\u001B[0m\n\u001B[0;32m   3573\u001B[0m                              'dlti systems.')\n\u001B[0;32m   3574\u001B[0m     \u001B[1;32melse\u001B[0m\u001B[1;33m:\u001B[0m\u001B[1;33m\u001B[0m\u001B[1;33m\u001B[0m\u001B[0m\n\u001B[1;32m-> 3575\u001B[1;33m         \u001B[0msystem\u001B[0m \u001B[1;33m=\u001B[0m \u001B[0mdlti\u001B[0m\u001B[1;33m(\u001B[0m\u001B[1;33m*\u001B[0m\u001B[0msystem\u001B[0m\u001B[1;33m[\u001B[0m\u001B[1;33m:\u001B[0m\u001B[1;33m-\u001B[0m\u001B[1;36m1\u001B[0m\u001B[1;33m]\u001B[0m\u001B[1;33m,\u001B[0m \u001B[0mdt\u001B[0m\u001B[1;33m=\u001B[0m\u001B[0msystem\u001B[0m\u001B[1;33m[\u001B[0m\u001B[1;33m-\u001B[0m\u001B[1;36m1\u001B[0m\u001B[1;33m]\u001B[0m\u001B[1;33m)\u001B[0m\u001B[1;33m.\u001B[0m\u001B[0m_as_ss\u001B[0m\u001B[1;33m(\u001B[0m\u001B[1;33m)\u001B[0m\u001B[1;33m\u001B[0m\u001B[1;33m\u001B[0m\u001B[0m\n\u001B[0m\u001B[0;32m   3576\u001B[0m \u001B[1;33m\u001B[0m\u001B[0m\n\u001B[0;32m   3577\u001B[0m     \u001B[1;31m# Default to 100 samples if unspecified\u001B[0m\u001B[1;33m\u001B[0m\u001B[1;33m\u001B[0m\u001B[1;33m\u001B[0m\u001B[0m\n",
      "\u001B[1;32mc:\\users\\sm2a\\pycharmprojects\\signal\\venv\\lib\\site-packages\\scipy\\signal\\ltisys.py\u001B[0m in \u001B[0;36m__new__\u001B[1;34m(cls, *system, **kwargs)\u001B[0m\n\u001B[0;32m    401\u001B[0m                                                   **kwargs)\n\u001B[0;32m    402\u001B[0m             \u001B[1;32melse\u001B[0m\u001B[1;33m:\u001B[0m\u001B[1;33m\u001B[0m\u001B[1;33m\u001B[0m\u001B[0m\n\u001B[1;32m--> 403\u001B[1;33m                 raise ValueError(\"`system` needs to be an instance of `dlti` \"\n\u001B[0m\u001B[0;32m    404\u001B[0m                                  \"or have 2, 3 or 4 arguments.\")\n\u001B[0;32m    405\u001B[0m         \u001B[1;31m# __new__ was called from a subclass, let it call its own functions\u001B[0m\u001B[1;33m\u001B[0m\u001B[1;33m\u001B[0m\u001B[1;33m\u001B[0m\u001B[0m\n",
      "\u001B[1;31mValueError\u001B[0m: `system` needs to be an instance of `dlti` or have 2, 3 or 4 arguments."
     ]
    }
   ],
   "source": [
    "# n = numpy.arange(-border,border,1)\n",
    "# y = (1/T)*(cos_2_pi_k_n(n+1)-cos_2_pi_k_n(n))\n",
    "# system = signal.dlti(0.8)\n",
    "a,b = signal.dimpulse([1.0],[1,-1])\n",
    "pyplot.stem(a,numpy.squeeze(b))\n",
    "pyplot.ylabel('y[n]')\n",
    "pyplot.xlabel('n')\n",
    "pyplot.show()"
   ]
  },
  {
   "cell_type": "markdown",
   "metadata": {},
   "source": [
    "B. $\\frac{1}{2T}(x[n+1]-x[n-1])$"
   ]
  },
  {
   "cell_type": "code",
   "execution_count": null,
   "metadata": {
    "pycharm": {
     "name": "#%%\n"
    }
   },
   "outputs": [],
   "source": [
    "n = numpy.arange(-border,border,1)\n",
    "y = (1/(2*T))*(cos_2_pi_k_n(n+1)-cos_2_pi_k_n(n-1))\n",
    "pyplot.stem(n,y)\n",
    "pyplot.ylabel('y[n]')\n",
    "pyplot.xlabel('n')\n",
    "pyplot.show()"
   ]
  },
  {
   "cell_type": "markdown",
   "metadata": {},
   "source": [
    "C. $\\frac{1}{T^2}(x[n+1]-2x[n]+x[n-1])$"
   ]
  },
  {
   "cell_type": "code",
   "execution_count": null,
   "metadata": {
    "pycharm": {
     "name": "#%%\n"
    }
   },
   "outputs": [],
   "source": [
    "n = numpy.arange(-border,border,0.1)\n",
    "y = (1/(T**2))*(cos_2_pi_k_n(n+1)-(2*cos_2_pi_k_n(n))+cos_2_pi_k_n(n-1))\n",
    "pyplot.stem(n,y)\n",
    "pyplot.ylabel('y[n]')\n",
    "pyplot.xlabel('n')\n",
    "pyplot.show()"
   ]
  },
  {
   "cell_type": "markdown",
   "metadata": {},
   "source": [
    "D. $\\sum_{m=0}^{19} cos(\\frac{nm}{10})x[n-m]$"
   ]
  },
  {
   "cell_type": "code",
   "execution_count": null,
   "metadata": {
    "pycharm": {
     "name": "#%%\n"
    }
   },
   "outputs": [],
   "source": [
    "n = numpy.arange(-border,border,0.1)\n",
    "y = (0.1*cos_2_pi_k_n(n-2))+(0.2*cos_2_pi_k_n(n-1))+cos_2_pi_k_n(n)+(0.2*cos_2_pi_k_n(n+1))+(0.1*cos_2_pi_k_n(n+2))\n",
    "pyplot.stem(n,y)\n",
    "pyplot.ylabel('y[n]')\n",
    "pyplot.xlabel('n')\n",
    "pyplot.show()"
   ]
  },
  {
   "cell_type": "markdown",
   "metadata": {},
   "source": [
    "### Part B"
   ]
  }
 ],
 "metadata": {
  "kernelspec": {
   "display_name": "Python 3 (ipykernel)",
   "language": "python",
   "name": "python3"
  },
  "language_info": {
   "codemirror_mode": {
    "name": "ipython",
    "version": 3
   },
   "file_extension": ".py",
   "mimetype": "text/x-python",
   "name": "python",
   "nbconvert_exporter": "python",
   "pygments_lexer": "ipython3",
   "version": "3.8.5"
  }
 },
 "nbformat": 4,
 "nbformat_minor": 1
}