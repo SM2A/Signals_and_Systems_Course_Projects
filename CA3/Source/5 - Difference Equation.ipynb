{
 "cells": [
  {
   "cell_type": "markdown",
   "metadata": {
    "collapsed": true,
    "pycharm": {
     "name": "#%% md\n"
    }
   },
   "source": [
    "# Discrete Time Linear Time Invariant Filter (DTLTI)"
   ]
  },
  {
   "cell_type": "code",
   "execution_count": 1,
   "outputs": [
    {
     "data": {
      "text/plain": "y(n) = a⋅x(n) + b⋅x(n - 1) - c⋅y(n - 1) - d⋅y(n - 2)",
      "image/png": "[encoded data removed]",
      "text/latex": "$\\displaystyle y(n) = a x(n) + b x(n - 1) - c y(n - 1) - d y(n - 2)$"
     },
     "execution_count": 1,
     "metadata": {},
     "output_type": "execute_result"
    }
   ],
   "source": [
    "import lcapy\n",
    "\n",
    "a = lcapy.symbol('a')\n",
    "b = lcapy.symbol('b')\n",
    "c = lcapy.symbol('c')\n",
    "d = lcapy.symbol('d')\n",
    "lpf = lcapy.DLTIFilter((a,b),(1,c,d))\n",
    "LPF = lpf.difference_equation()\n",
    "LPF.expr"
   ],
   "metadata": {
    "collapsed": false,
    "pycharm": {
     "name": "#%%\n"
    }
   }
  },
  {
   "cell_type": "code",
   "execution_count": 4,
   "outputs": [
    {
     "data": {
      "text/plain": "                b⋅X(z)   c⋅Y(z)   d⋅Y(z)\nY(z) = a⋅X(z) + ────── - ────── - ──────\n                  z        z         2  \n                                    z   ",
      "image/png": "[encoded data removed]",
      "text/latex": "$\\displaystyle Y(z) = a X(z) + \\frac{b X(z)}{z} - \\frac{c Y(z)}{z} - \\frac{d Y(z)}{z^{2}}$"
     },
     "execution_count": 4,
     "metadata": {},
     "output_type": "execute_result"
    }
   ],
   "source": [
    "Y = LPF(lcapy.z)\n",
    "Y.expr"
   ],
   "metadata": {
    "collapsed": false,
    "pycharm": {
     "name": "#%%\n"
    }
   }
  },
  {
   "cell_type": "code",
   "execution_count": 6,
   "outputs": [],
   "source": [
    "# Frequency response"
   ],
   "metadata": {
    "collapsed": false,
    "pycharm": {
     "name": "#%%\n"
    }
   }
  },
  {
   "cell_type": "code",
   "execution_count": 18,
   "outputs": [
    {
     "data": {
      "text/plain": "y(n) = x(n) + x(n - 1) - 2⋅y(n - 2) + 3⋅y(n - 1)",
      "image/png": "[encoded data removed]",
      "text/latex": "$\\displaystyle y(n) = x(n) + x(n - 1) - 2 y(n - 2) + 3 y(n - 1)$"
     },
     "execution_count": 18,
     "metadata": {},
     "output_type": "execute_result"
    }
   ],
   "source": [
    "\n",
    "lpf_df = lpf.subs({'a':1, 'b':1, 'c':-3, 'd':2})\n",
    "LPF = lpf_df.difference_equation()\n",
    "LPF.expr"
   ],
   "metadata": {
    "collapsed": false,
    "pycharm": {
     "name": "#%%\n"
    }
   }
  },
  {
   "cell_type": "code",
   "execution_count": null,
   "outputs": [],
   "source": [
    "# Block Diagram"
   ],
   "metadata": {
    "collapsed": false,
    "pycharm": {
     "name": "#%%\n"
    }
   }
  },
  {
   "cell_type": "code",
   "execution_count": 10,
   "outputs": [
    {
     "data": {
      "text/plain": " n     \n2 ⋅u[n]",
      "image/png": "[encoded data removed]",
      "text/latex": "$\\displaystyle 2^{n} u\\left[n\\right]$"
     },
     "execution_count": 10,
     "metadata": {},
     "output_type": "execute_result"
    }
   ],
   "source": [
    "x_n = lcapy.expr('(2 ** n) * u(n)')\n",
    "x_n.expr"
   ],
   "metadata": {
    "collapsed": false,
    "pycharm": {
     "name": "#%%\n"
    }
   }
  },
  {
   "cell_type": "code",
   "execution_count": 33,
   "outputs": [
    {
     "data": {
      "text/plain": "{_1, 6, 22, 66}",
      "text/latex": "$$\\left\\{\\underline{1}, 6, 22, 66\\right\\}$$"
     },
     "execution_count": 33,
     "metadata": {},
     "output_type": "execute_result"
    }
   ],
   "source": [
    "LPF.dlti_filter().response(x_n, ni=(0,3))\n"
   ],
   "metadata": {
    "collapsed": false,
    "pycharm": {
     "name": "#%%\n"
    }
   }
  }
 ],
 "metadata": {
  "kernelspec": {
   "display_name": "Python 3",
   "language": "python",
   "name": "python3"
  },
  "language_info": {
   "codemirror_mode": {
    "name": "ipython",
    "version": 2
   },
   "file_extension": ".py",
   "mimetype": "text/x-python",
   "name": "python",
   "nbconvert_exporter": "python",
   "pygments_lexer": "ipython2",
   "version": "2.7.6"
  }
 },
 "nbformat": 4,
 "nbformat_minor": 0
}