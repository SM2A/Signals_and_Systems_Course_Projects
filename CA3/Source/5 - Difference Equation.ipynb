{
 "cells": [
  {
   "cell_type": "markdown",
   "metadata": {
    "collapsed": true,
    "pycharm": {
     "name": "#%% md\n"
    }
   },
   "source": [
    "# Discrete Time Linear Time Invariant Filter (DTLTI)\n",
    "\n",
    "### A\n",
    "\n",
    "Pyton represenation of given diference equation is shown below"
   ]
  },
  {
   "cell_type": "code",
   "execution_count": 1,
   "metadata": {
    "pycharm": {
     "name": "#%%\n"
    }
   },
   "outputs": [
    {
     "data": {
      "image/png": "[encoded data removed]",
      "text/latex": [
       "$\\displaystyle y(n) = a x(n) + b x(n - 1) - c y(n - 1) - d y(n - 2)$"
      ],
      "text/plain": [
       "y(n) = a⋅x(n) + b⋅x(n - 1) - c⋅y(n - 1) - d⋅y(n - 2)"
      ]
     },
     "execution_count": 1,
     "metadata": {},
     "output_type": "execute_result"
    }
   ],
   "source": [
    "import lcapy\n",
    "\n",
    "a = lcapy.symbol('a')\n",
    "b = lcapy.symbol('b')\n",
    "c = lcapy.symbol('c')\n",
    "d = lcapy.symbol('d')\n",
    "lpf = lcapy.DLTIFilter((a,b),(1,c,d))\n",
    "LPF = lpf.difference_equation()\n",
    "LPF.expr"
   ]
  },
  {
   "cell_type": "markdown",
   "metadata": {},
   "source": [
    "### B"
   ]
  },
  {
   "cell_type": "code",
   "execution_count": 2,
   "metadata": {
    "pycharm": {
     "name": "#%%\n"
    }
   },
   "outputs": [
    {
     "data": {
      "image/png": "[encoded data removed]",
      "text/latex": [
       "$\\displaystyle \\frac{z \\left(a z + b\\right)}{c z + d + z^{2}}$"
      ],
      "text/plain": [
       "z⋅(a⋅z + b) \n",
       "────────────\n",
       "           2\n",
       "c⋅z + d + z "
      ]
     },
     "execution_count": 2,
     "metadata": {},
     "output_type": "execute_result"
    }
   ],
   "source": [
    "Y = LPF.transfer_function()\n",
    "Y.expr"
   ]
  },
  {
   "cell_type": "markdown",
   "metadata": {},
   "source": [
    "### C"
   ]
  },
  {
   "cell_type": "code",
   "execution_count": 3,
   "metadata": {
    "pycharm": {
     "name": "#%%\n"
    }
   },
   "outputs": [
    {
     "data": {
      "text/latex": [
       "$\\displaystyle \\frac{\\left(- \\frac{c}{2} - \\frac{\\sqrt{c^{2} - 4 d}}{2}\\right)^{n} \\left(a c + a \\sqrt{c^{2} - 4 d} - 2 b\\right)}{2 \\sqrt{c^{2} - 4 d}} + \\frac{\\left(- \\frac{c}{2} + \\frac{\\sqrt{c^{2} - 4 d}}{2}\\right)^{n} \\left(- a c + a \\sqrt{c^{2} - 4 d} + 2 b\\right)}{2 \\sqrt{c^{2} - 4 d}} \\;\\; \\text{for}\\: n \\geq 0$"
      ],
      "text/plain": [
       "                     n                                                      n \n",
       "⎛         __________⎞                                  ⎛         __________⎞  \n",
       "⎜        ╱  2       ⎟  ⎛           __________      ⎞   ⎜        ╱  2       ⎟  \n",
       "⎜  c   ╲╱  c  - 4⋅d ⎟  ⎜          ╱  2             ⎟   ⎜  c   ╲╱  c  - 4⋅d ⎟  \n",
       "⎜- ─ - ─────────────⎟ ⋅⎝a⋅c + a⋅╲╱  c  - 4⋅d  - 2⋅b⎠   ⎜- ─ + ─────────────⎟ ⋅\n",
       "⎝  2         2      ⎠                                  ⎝  2         2      ⎠  \n",
       "──────────────────────────────────────────────────── + ───────────────────────\n",
       "                       __________                                             \n",
       "                      ╱  2                                                    \n",
       "                  2⋅╲╱  c  - 4⋅d                                          2⋅╲╱\n",
       "\n",
       "                                         \n",
       "                                         \n",
       "⎛            __________      ⎞           \n",
       "⎜           ╱  2             ⎟           \n",
       "⎝-a⋅c + a⋅╲╱  c  - 4⋅d  + 2⋅b⎠           \n",
       "                                         \n",
       "──────────────────────────────  for n ≥ 0\n",
       " __________                              \n",
       "╱  2                                     \n",
       "  c  - 4⋅d                               "
      ]
     },
     "execution_count": 3,
     "metadata": {},
     "output_type": "execute_result"
    }
   ],
   "source": [
    "Y.IZT().expr"
   ]
  },
  {
   "cell_type": "markdown",
   "metadata": {},
   "source": [
    "### D"
   ]
  },
  {
   "cell_type": "code",
   "execution_count": 4,
   "metadata": {
    "pycharm": {
     "name": "#%%\n"
    }
   },
   "outputs": [
    {
     "data": {
      "image/png": "[encoded data removed]",
      "text/latex": [
       "$\\displaystyle y(n) = x(n) + x(n - 1) - 2 y(n - 2) + 3 y(n - 1)$"
      ],
      "text/plain": [
       "y(n) = x(n) + x(n - 1) - 2⋅y(n - 2) + 3⋅y(n - 1)"
      ]
     },
     "execution_count": 4,
     "metadata": {},
     "output_type": "execute_result"
    }
   ],
   "source": [
    "lpf_df = lpf.subs({'a':1, 'b':1, 'c':-3, 'd':2})\n",
    "LPF = lpf_df.difference_equation()\n",
    "LPF.expr"
   ]
  },
  {
   "cell_type": "markdown",
   "metadata": {},
   "source": [
    "### E"
   ]
  },
  {
   "cell_type": "code",
   "execution_count": 5,
   "metadata": {
    "pycharm": {
     "name": "#%%\n"
    }
   },
   "outputs": [
    {
     "data": {
      "image/png": "[encoded data removed]",
      "text/latex": [
       "$\\displaystyle y(n) = a x(n) + b x(n - 1) - c y(n - 1) - d y(n - 2)$"
      ],
      "text/plain": [
       "y(n) = a⋅x(n) + b⋅x(n - 1) - c⋅y(n - 1) - d⋅y(n - 2)"
      ]
     },
     "execution_count": 5,
     "metadata": {},
     "output_type": "execute_result"
    }
   ],
   "source": [
    "Y.difference_equation('x', 'y', 'iir').expr"
   ]
  },
  {
   "cell_type": "markdown",
   "metadata": {},
   "source": [
    "### F"
   ]
  },
  {
   "cell_type": "code",
   "execution_count": 6,
   "metadata": {
    "pycharm": {
     "name": "#%%\n"
    }
   },
   "outputs": [
    {
     "data": {
      "image/png": "[encoded data removed]",
      "text/latex": [
       "$\\displaystyle 2^{n} u\\left[n\\right]$"
      ],
      "text/plain": [
       " n     \n",
       "2 ⋅u[n]"
      ]
     },
     "execution_count": 6,
     "metadata": {},
     "output_type": "execute_result"
    }
   ],
   "source": [
    "x_n = lcapy.expr('(2 ** n) * u(n)')\n",
    "x_n.expr"
   ]
  },
  {
   "cell_type": "code",
   "execution_count": 7,
   "metadata": {
    "pycharm": {
     "name": "#%%\n"
    }
   },
   "outputs": [
    {
     "data": {
      "text/latex": [
       "$$\\left\\{\\underline{1}, 6, 22, 66\\right\\}$$"
      ],
      "text/plain": [
       "{_1, 6, 22, 66}"
      ]
     },
     "execution_count": 7,
     "metadata": {},
     "output_type": "execute_result"
    }
   ],
   "source": [
    "LPF.dlti_filter().response(x_n, ni=(0,3))"
   ]
  }
 ],
 "metadata": {
  "kernelspec": {
   "display_name": "Python 3 (ipykernel)",
   "language": "python",
   "name": "python3"
  },
  "language_info": {
   "codemirror_mode": {
    "name": "ipython",
    "version": 3
   },
   "file_extension": ".py",
   "mimetype": "text/x-python",
   "name": "python",
   "nbconvert_exporter": "python",
   "pygments_lexer": "ipython3",
   "version": "3.8.5"
  }
 },
 "nbformat": 4,
 "nbformat_minor": 1
}
