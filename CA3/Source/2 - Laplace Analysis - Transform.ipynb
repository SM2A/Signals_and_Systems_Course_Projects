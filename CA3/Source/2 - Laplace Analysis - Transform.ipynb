{
 "cells": [
  {
   "cell_type": "markdown",
   "metadata": {},
   "source": [
    "# Laplace Analysis / Transform\n",
    "\n",
    "## Laplace Analysis"
   ]
  },
  {
   "cell_type": "code",
   "execution_count": 1,
   "metadata": {
    "pycharm": {
     "name": "#%%\n"
    }
   },
   "outputs": [],
   "source": [
    "import lcapy\n",
    "\n",
    "circuit = lcapy.Circuit(\"\"\"V 1 0_1 step; down, v=v(t)\n",
    "\t\t\t\t  \t R1 1 2; right\n",
    "\t\t\t\t  \t L 2 3; down\n",
    "\t\t\t\t  \t R2 3 0; down, v=v_R2\n",
    "\t\t\t\t  \t C 3 0; down, v=v_C\"\"\")"
   ]
  },
  {
   "cell_type": "code",
   "execution_count": 2,
   "metadata": {
    "pycharm": {
     "name": "#%%\n"
    }
   },
   "outputs": [
    {
     "data": {
      "image/png": "[encoded data removed]",
      "text/latex": [
       "$\\displaystyle \\frac{\\frac{1}{C} \\frac{1}{L}}{s^{2} + \\frac{s \\left(C R_{1} R_{2} + L\\right)}{C L R_{2}} + \\frac{R_{1} + R_{2}}{C L R_{2}}}$"
      ],
      "text/plain": [
       "            ⎛ 1 ⎞             \n",
       "            ⎜───⎟             \n",
       "            ⎝C⋅L⎠             \n",
       "──────────────────────────────\n",
       " 2   s⋅(C⋅R₁⋅R₂ + L)   R₁ + R₂\n",
       "s  + ─────────────── + ───────\n",
       "          C⋅L⋅R₂        C⋅L⋅R₂"
      ]
     },
     "execution_count": 2,
     "metadata": {},
     "output_type": "execute_result"
    }
   ],
   "source": [
    "H = circuit.transfer(1,0,3,0)\n",
    "H.expr"
   ]
  },
  {
   "cell_type": "code",
   "execution_count": 3,
   "metadata": {
    "pycharm": {
     "name": "#%%\n"
    }
   },
   "outputs": [
    {
     "data": {
      "image/png": "[encoded data removed]",
      "text/latex": [
       "$\\displaystyle - \\frac{2 C L R_{2}^{2}}{\\sqrt{C^{2} R_{1}^{2} R_{2}^{2} - 2 C L R_{1} R_{2} - 4 C L R_{2}^{2} + L^{2}} \\left(2 C L R_{2} s + C R_{1} R_{2} + L + \\sqrt{C^{2} R_{1}^{2} R_{2}^{2} - 2 C L R_{1} R_{2} - 4 C L R_{2}^{2} + L^{2}}\\right)} + \\frac{2 C L R_{2}^{2}}{\\sqrt{C^{2} R_{1}^{2} R_{2}^{2} - 2 C L R_{1} R_{2} - 4 C L R_{2}^{2} + L^{2}} \\left(2 C L R_{2} s + C R_{1} R_{2} + L - \\sqrt{C^{2} R_{1}^{2} R_{2}^{2} - 2 C L R_{1} R_{2} - 4 C L R_{2}^{2} + L^{2}}\\right)}$"
      ],
      "text/plain": [
       "                                                                  2           \n",
       "                                                          2⋅C⋅L⋅R₂            \n",
       "- ────────────────────────────────────────────────────────────────────────────\n",
       "     ___________________________________________ ⎛                            \n",
       "    ╱  2   2   2                         2    2  ⎜                            \n",
       "  ╲╱  C ⋅R₁ ⋅R₂  - 2⋅C⋅L⋅R₁⋅R₂ - 4⋅C⋅L⋅R₂  + L  ⋅⎝2⋅C⋅L⋅R₂⋅s + C⋅R₁⋅R₂ + L + ╲\n",
       "\n",
       "                                                                              \n",
       "                                                                              \n",
       "────────────────────────────────────────────── + ─────────────────────────────\n",
       "  ___________________________________________⎞      __________________________\n",
       " ╱  2   2   2                         2    2 ⎟     ╱  2   2   2               \n",
       "╱  C ⋅R₁ ⋅R₂  - 2⋅C⋅L⋅R₁⋅R₂ - 4⋅C⋅L⋅R₂  + L  ⎠   ╲╱  C ⋅R₁ ⋅R₂  - 2⋅C⋅L⋅R₁⋅R₂ \n",
       "\n",
       "                                   2                                          \n",
       "                           2⋅C⋅L⋅R₂                                           \n",
       "──────────────────────────────────────────────────────────────────────────────\n",
       "_________________ ⎛                              _____________________________\n",
       "          2    2  ⎜                             ╱  2   2   2                  \n",
       "- 4⋅C⋅L⋅R₂  + L  ⋅⎝2⋅C⋅L⋅R₂⋅s + C⋅R₁⋅R₂ + L - ╲╱  C ⋅R₁ ⋅R₂  - 2⋅C⋅L⋅R₁⋅R₂ - 4\n",
       "\n",
       "               \n",
       "               \n",
       "───────────────\n",
       "______________⎞\n",
       "       2    2 ⎟\n",
       "⋅C⋅L⋅R₂  + L  ⎠"
      ]
     },
     "execution_count": 3,
     "metadata": {},
     "output_type": "execute_result"
    }
   ],
   "source": [
    "H.partfrac().simplify_terms().expr"
   ]
  },
  {
   "cell_type": "markdown",
   "metadata": {},
   "source": [
    "## Laplace Transform\n"
   ]
  },
  {
   "cell_type": "code",
   "execution_count": 4,
   "metadata": {
    "pycharm": {
     "name": "#%%\n"
    }
   },
   "outputs": [
    {
     "data": {
      "text/latex": [
       "$\\displaystyle \\left(3 - 2 f_{0}\\right) \\delta\\left(t\\right) + \\left(\\frac{f_{0}^{2}}{2} + \\left(\\frac{f_{0}^{2}}{2} - 6 f_{0} - 2\\right) \\cos{\\left(2 t \\right)} + \\left(\\frac{3 f_{0}^{2}}{2} + 2 f_{0} - 6\\right) \\sin{\\left(2 t \\right)}\\right) u\\left(t\\right) + \\delta^{\\left( 1 \\right)}\\left( t \\right) \\;\\; \\text{for}\\: t \\geq 0$"
      ],
      "text/plain": [
       "                  ⎛  2   ⎛  2           ⎞            ⎛    2           ⎞       \n",
       "                  ⎜f₀    ⎜f₀            ⎟            ⎜3⋅f₀            ⎟       \n",
       "(3 - 2⋅f₀)⋅δ(t) + ⎜─── + ⎜─── - 6⋅f₀ - 2⎟⋅cos(2⋅t) + ⎜───── + 2⋅f₀ - 6⎟⋅sin(2⋅\n",
       "                  ⎝ 2    ⎝ 2            ⎠            ⎝  2             ⎠       \n",
       "\n",
       "  ⎞                           \n",
       "  ⎟         (1)               \n",
       "t)⎟⋅u(t) + δ    (t)  for t ≥ 0\n",
       "  ⎠                           "
      ]
     },
     "execution_count": 4,
     "metadata": {},
     "output_type": "execute_result"
    }
   ],
   "source": [
    "from lcapy import s, t\n",
    "\n",
    "x = lcapy.expr('(3 - 2 * f_0) * delta(t) + (((f_0 ** 2) / 2) + (((f_0 ** 2) / 2) - (6*f_0) +-2) * cos(2 * t) + (3 * ((f_0 ** 2) / 2) + (2 * f_0) -6) * sin(2 * t)) * u(t)')  + s(t)\n",
    "x.expr"
   ]
  },
  {
   "cell_type": "code",
   "execution_count": 5,
   "metadata": {},
   "outputs": [
    {
     "data": {
      "image/png": "[encoded data removed]",
      "text/latex": [
       "$\\displaystyle \\frac{f_{0}^{2}}{2 s} - 2 f_{0} + s + \\frac{s \\left(\\frac{f_{0}^{2}}{2} - 6 f_{0} - 2\\right)}{s^{2} + 4} + 3 + \\frac{2 \\left(\\frac{3 f_{0}^{2}}{2} + 2 f_{0} - 6\\right)}{s^{2} + 4}$"
      ],
      "text/plain": [
       "                   ⎛  2           ⎞         ⎛    2           ⎞\n",
       "                   ⎜f₀            ⎟         ⎜3⋅f₀            ⎟\n",
       "  2              s⋅⎜─── - 6⋅f₀ - 2⎟       2⋅⎜───── + 2⋅f₀ - 6⎟\n",
       "f₀                 ⎝ 2            ⎠         ⎝  2             ⎠\n",
       "─── - 2⋅f₀ + s + ────────────────── + 3 + ────────────────────\n",
       "2⋅s                     2                         2           \n",
       "                       s  + 4                    s  + 4       "
      ]
     },
     "execution_count": 5,
     "metadata": {},
     "output_type": "execute_result"
    }
   ],
   "source": [
    "X = x.LT()\n",
    "X.expr"
   ]
  },
  {
   "cell_type": "code",
   "execution_count": 6,
   "metadata": {
    "pycharm": {
     "name": "#%%\n"
    }
   },
   "outputs": [
    {
     "data": {
      "image/png": "[encoded data removed]",
      "text/latex": [
       "$\\displaystyle s - \\frac{12 s}{s^{2} + 4} - 1 + \\frac{8}{s^{2} + 4} + \\frac{2}{s}$"
      ],
      "text/plain": [
       "     12⋅s          8      2\n",
       "s - ────── - 1 + ────── + ─\n",
       "     2            2       s\n",
       "    s  + 4       s  + 4    "
      ]
     },
     "execution_count": 6,
     "metadata": {},
     "output_type": "execute_result"
    }
   ],
   "source": [
    "X = X.subs({'f_0':2})\n",
    "X.expr"
   ]
  },
  {
   "cell_type": "code",
   "execution_count": 7,
   "metadata": {
    "pycharm": {
     "name": "#%%\n"
    }
   },
   "outputs": [
    {
     "data": {
      "text/plain": [
       "<AxesSubplot:xlabel='Re(s)', ylabel='Im(s)'>"
      ]
     },
     "execution_count": 7,
     "metadata": {},
     "output_type": "execute_result"
    },
    {
     "data": {
      "image/png": "[encoded data removed]",
      "text/plain": [
       "<Figure size 432x288 with 1 Axes>"
      ]
     },
     "metadata": {
      "needs_background": "light"
     },
     "output_type": "display_data"
    }
   ],
   "source": [
    "X.plot()"
   ]
  },
  {
   "cell_type": "code",
   "execution_count": null,
   "metadata": {},
   "outputs": [],
   "source": []
  }
 ],
 "metadata": {
  "kernelspec": {
   "display_name": "Python 3 (ipykernel)",
   "language": "python",
   "name": "python3"
  },
  "language_info": {
   "codemirror_mode": {
    "name": "ipython",
    "version": 3
   },
   "file_extension": ".py",
   "mimetype": "text/x-python",
   "name": "python",
   "nbconvert_exporter": "python",
   "pygments_lexer": "ipython3",
   "version": "3.8.5"
  }
 },
 "nbformat": 4,
 "nbformat_minor": 1
}